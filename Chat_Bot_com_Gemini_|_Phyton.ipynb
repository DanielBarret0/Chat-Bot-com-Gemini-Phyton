{
  "nbformat": 4,
  "nbformat_minor": 0,
  "metadata": {
    "colab": {
      "provenance": [],
      "authorship_tag": "ABX9TyPMvwtXKCwWENJlu/ot8xsE",
      "include_colab_link": true
    },
    "kernelspec": {
      "name": "python3",
      "display_name": "Python 3"
    },
    "language_info": {
      "name": "python"
    }
  },
  "cells": [
    {
      "cell_type": "markdown",
      "metadata": {
        "id": "view-in-github",
        "colab_type": "text"
      },
      "source": [
        "<a href=\"https://colab.research.google.com/github/DanielBarret0/Chat-Bot-com-Gemini-Phyton/blob/main/Chat_Bot_com_Gemini_%7C_Phyton.ipynb\" target=\"_parent\"><img src=\"https://colab.research.google.com/assets/colab-badge.svg\" alt=\"Open In Colab\"/></a>"
      ]
    },
    {
      "cell_type": "markdown",
      "source": [
        "Instalando o SKD do google"
      ],
      "metadata": {
        "id": "KnMbhD4A5RZt"
      }
    },
    {
      "cell_type": "code",
      "execution_count": null,
      "metadata": {
        "id": "5WzJGNvT5NeY"
      },
      "outputs": [],
      "source": [
        "!pip install -q -U google-generativeai"
      ]
    },
    {
      "cell_type": "code",
      "source": [
        "import google.generativeai as genai\n",
        "from google.colab import userdata\n",
        "api_key = userdata.get('SECRET_KET')\n",
        "genai.configure(api_key=api_key)"
      ],
      "metadata": {
        "id": "s24nZQ9X5hVb"
      },
      "execution_count": null,
      "outputs": []
    },
    {
      "cell_type": "markdown",
      "source": [
        "Listar os modelos disponiveis"
      ],
      "metadata": {
        "id": "7LcZzd266Apb"
      }
    },
    {
      "cell_type": "code",
      "source": [
        "for m in genai.list_models():\n",
        "  if 'generateContent' in m.supported_generation_methods:\n",
        "    print(m.name)"
      ],
      "metadata": {
        "colab": {
          "base_uri": "https://localhost:8080/",
          "height": 139
        },
        "id": "XFx5LgFQ6EC5",
        "outputId": "95ee951e-9c2c-441f-faba-700601e2e652"
      },
      "execution_count": null,
      "outputs": [
        {
          "output_type": "stream",
          "name": "stdout",
          "text": [
            "models/gemini-1.0-pro\n",
            "models/gemini-1.0-pro-001\n",
            "models/gemini-1.0-pro-latest\n",
            "models/gemini-1.0-pro-vision-latest\n",
            "models/gemini-1.5-pro-latest\n",
            "models/gemini-pro\n",
            "models/gemini-pro-vision\n"
          ]
        }
      ]
    },
    {
      "cell_type": "markdown",
      "source": [
        "Configuração de geração"
      ],
      "metadata": {
        "id": "zNwT5T7E9g4F"
      }
    },
    {
      "cell_type": "code",
      "source": [
        "generation_config = {\n",
        "    \"candidate_count\": 1,\n",
        "    \"temperature\": 0.5\n",
        "}"
      ],
      "metadata": {
        "id": "TGSwXHaC8eqy"
      },
      "execution_count": null,
      "outputs": []
    },
    {
      "cell_type": "markdown",
      "source": [
        "Configuração de segurança da geração"
      ],
      "metadata": {
        "id": "abfedr-r9k-p"
      }
    },
    {
      "cell_type": "code",
      "source": [
        "safaty_settings = {\n",
        "    \"HARASSMENT\": 'BLOCK_NONE',\n",
        "    \"HATE\": 'BLOCK_NONE',\n",
        "    \"SEXUAL\": 'BLOCK_NONE',\n",
        "    \"DANGEROUS\": 'BLOCK_NONE',\n",
        "}"
      ],
      "metadata": {
        "id": "WG89dKpF9FZ9"
      },
      "execution_count": null,
      "outputs": []
    },
    {
      "cell_type": "markdown",
      "source": [
        "Inicializar o modelo"
      ],
      "metadata": {
        "id": "72jXS8El-O16"
      }
    },
    {
      "cell_type": "code",
      "source": [
        "model = genai.GenerativeModel(model_name='gemini-1.0-pro',\n",
        "                              generation_config = generation_config,\n",
        "                              safety_settings = safaty_settings,\n",
        "                              )"
      ],
      "metadata": {
        "id": "ZtfYgRl5-Qa4"
      },
      "execution_count": null,
      "outputs": []
    },
    {
      "cell_type": "code",
      "source": [
        "response = model.generate_content(\"O que é uma IA\")\n",
        "print(response.text)"
      ],
      "metadata": {
        "colab": {
          "base_uri": "https://localhost:8080/",
          "height": 749
        },
        "id": "bTbbQW2j_j2y",
        "outputId": "d5ba2f40-271f-45e3-ff95-a909a0f55cbb"
      },
      "execution_count": null,
      "outputs": [
        {
          "output_type": "stream",
          "name": "stdout",
          "text": [
            "**Inteligência Artificial (IA)**\n",
            "\n",
            "A Inteligência Artificial (IA) é o campo da ciência da computação que se concentra no desenvolvimento de sistemas e máquinas que podem executar tarefas que normalmente requerem inteligência humana, como:\n",
            "\n",
            "* **Aprendizado:** A capacidade de adquirir conhecimento e melhorar o desempenho com base em dados e experiências.\n",
            "* **Raciocínio:** A capacidade de resolver problemas, tomar decisões e fazer inferências lógicas.\n",
            "* **Planejamento:** A capacidade de criar e executar planos para atingir objetivos.\n",
            "* **Linguagem:** A capacidade de entender, interpretar e gerar linguagem humana.\n",
            "* **Percepção:** A capacidade de interpretar dados sensoriais, como imagens e sons.\n",
            "\n",
            "**Tipos de IA**\n",
            "\n",
            "* **IA Fraca (IA Estreita):** Sistemas projetados para executar tarefas específicas, como reconhecimento facial ou tradução de idiomas.\n",
            "* **IA Geral:** Sistemas que podem realizar uma ampla gama de tarefas cognitivas, como um ser humano.\n",
            "* **Super IA:** Sistemas que superam as capacidades cognitivas humanas em todas as áreas.\n",
            "\n",
            "**Aplicações da IA**\n",
            "\n",
            "A IA tem uma ampla gama de aplicações em vários setores, incluindo:\n",
            "\n",
            "* **Saúde:** Diagnóstico médico, descoberta de medicamentos, assistência cirúrgica\n",
            "* **Finanças:** Detecção de fraudes, negociação automatizada, gestão de investimentos\n",
            "* **Transporte:** Veículos autônomos, otimização de rotas, gerenciamento de tráfego\n",
            "* **Manufatura:** Automação de processos, controle de qualidade, otimização da cadeia de suprimentos\n",
            "* **Entretenimento:** Geração de conteúdo, recomendações personalizadas, realidade virtual\n",
            "* **Pesquisa científica:** Descoberta de novos materiais, simulação de experimentos, análise de dados complexos\n",
            "\n",
            "**Benefícios da IA**\n",
            "\n",
            "* **Eficiência aprimorada:** A IA pode automatizar tarefas repetitivas e demoradas, liberando tempo humano para atividades mais valiosas.\n",
            "* **Melhora da tomada de decisão:** A IA pode fornecer insights e recomendações com base em grandes quantidades de dados, auxiliando na tomada de decisões informadas.\n",
            "* **Personalização:** A IA pode personalizar experiências para indivíduos com base em suas preferências e comportamento.\n",
            "* **Inovação:** A IA pode acelerar o desenvolvimento de novos produtos e serviços, impulsionando o progresso tecnológico.\n",
            "\n",
            "**Desafios da IA**\n",
            "\n",
            "* **Viés:** Os sistemas de IA podem ser tendenciosos se forem treinados com dados tendenciosos.\n",
            "* **Privacidade:** A IA pode coletar e analisar grandes quantidades de dados pessoais, levantando preocupações sobre privacidade.\n",
            "* **Desemprego:** A automação por IA pode levar à perda de empregos em alguns setores.\n",
            "* **Regulamentação:** A IA levanta questões éticas e legais que precisam ser resolvidas por meio de regulamentações adequadas.\n",
            "* **Interpretabilidade:** Pode ser difícil entender como os sistemas de IA tomam decisões, tornando difícil confiar neles.\n"
          ]
        }
      ]
    },
    {
      "cell_type": "code",
      "source": [
        "chat = model.start_chat(history = [])"
      ],
      "metadata": {
        "id": "Hplrb_xfBS2z"
      },
      "execution_count": null,
      "outputs": []
    },
    {
      "cell_type": "code",
      "execution_count": null,
      "metadata": {
        "id": "dAcbPBocgzeX",
        "colab": {
          "base_uri": "https://localhost:8080/",
          "height": 1000
        },
        "outputId": "c0f82e21-5e49-4874-e6f4-872d07c8ee7c"
      },
      "outputs": [
        {
          "output_type": "display_data",
          "data": {
            "text/plain": [
              "<IPython.core.display.Markdown object>"
            ],
            "text/markdown": "> **user**: qual capital do japao"
          },
          "metadata": {}
        },
        {
          "output_type": "stream",
          "name": "stdout",
          "text": [
            "-------------------------------------------\n"
          ]
        },
        {
          "output_type": "display_data",
          "data": {
            "text/plain": [
              "<IPython.core.display.Markdown object>"
            ],
            "text/markdown": "> **model**: Tóquio"
          },
          "metadata": {}
        },
        {
          "output_type": "stream",
          "name": "stdout",
          "text": [
            "-------------------------------------------\n"
          ]
        },
        {
          "output_type": "display_data",
          "data": {
            "text/plain": [
              "<IPython.core.display.Markdown object>"
            ],
            "text/markdown": "> **user**: Qual a comida tipica desse pais"
          },
          "metadata": {}
        },
        {
          "output_type": "stream",
          "name": "stdout",
          "text": [
            "-------------------------------------------\n"
          ]
        },
        {
          "output_type": "display_data",
          "data": {
            "text/plain": [
              "<IPython.core.display.Markdown object>"
            ],
            "text/markdown": "> **model**: Sushi"
          },
          "metadata": {}
        },
        {
          "output_type": "stream",
          "name": "stdout",
          "text": [
            "-------------------------------------------\n"
          ]
        },
        {
          "output_type": "display_data",
          "data": {
            "text/plain": [
              "<IPython.core.display.Markdown object>"
            ],
            "text/markdown": "> **user**: qual as cores da bandeira desse pais"
          },
          "metadata": {}
        },
        {
          "output_type": "stream",
          "name": "stdout",
          "text": [
            "-------------------------------------------\n"
          ]
        },
        {
          "output_type": "display_data",
          "data": {
            "text/plain": [
              "<IPython.core.display.Markdown object>"
            ],
            "text/markdown": "> **model**: Branco e vermelho"
          },
          "metadata": {}
        },
        {
          "output_type": "stream",
          "name": "stdout",
          "text": [
            "-------------------------------------------\n"
          ]
        },
        {
          "output_type": "display_data",
          "data": {
            "text/plain": [
              "<IPython.core.display.Markdown object>"
            ],
            "text/markdown": "> **user**: como faço para da espaço em texto na linguagen phyton "
          },
          "metadata": {}
        },
        {
          "output_type": "stream",
          "name": "stdout",
          "text": [
            "-------------------------------------------\n"
          ]
        },
        {
          "output_type": "display_data",
          "data": {
            "text/plain": [
              "<IPython.core.display.Markdown object>"
            ],
            "text/markdown": "> **model**: Você pode usar o caractere de escape `\\t` para adicionar um espaço em texto na linguagem Python. Por exemplo:\n> \n> ```python\n> texto = \"Olá\\tmundo!\"\n> print(texto)\n> ```\n> \n> Isso imprimirá:\n> \n> ```\n> Olá    mundo!\n> ```\n> \n> Você também pode usar a função `join()` para adicionar espaço entre elementos de uma lista. Por exemplo:\n> \n> ```python\n> lista = [\"Olá\", \"mundo!\"]\n> texto = \" \".join(lista)\n> print(texto)\n> ```\n> \n> Isso também imprimirá:\n> \n> ```\n> Olá    mundo!\n> ```"
          },
          "metadata": {}
        },
        {
          "output_type": "stream",
          "name": "stdout",
          "text": [
            "-------------------------------------------\n"
          ]
        },
        {
          "output_type": "display_data",
          "data": {
            "text/plain": [
              "<IPython.core.display.Markdown object>"
            ],
            "text/markdown": "> **user**: qual é a população dessa cidade?"
          },
          "metadata": {}
        },
        {
          "output_type": "stream",
          "name": "stdout",
          "text": [
            "-------------------------------------------\n"
          ]
        },
        {
          "output_type": "display_data",
          "data": {
            "text/plain": [
              "<IPython.core.display.Markdown object>"
            ],
            "text/markdown": "> **model**: Qual cidade você está se referindo? Por favor, forneça o nome da cidade para que eu possa fornecer a população."
          },
          "metadata": {}
        },
        {
          "output_type": "stream",
          "name": "stdout",
          "text": [
            "-------------------------------------------\n"
          ]
        },
        {
          "output_type": "display_data",
          "data": {
            "text/plain": [
              "<IPython.core.display.Markdown object>"
            ],
            "text/markdown": "> **user**: Tokio"
          },
          "metadata": {}
        },
        {
          "output_type": "stream",
          "name": "stdout",
          "text": [
            "-------------------------------------------\n"
          ]
        },
        {
          "output_type": "display_data",
          "data": {
            "text/plain": [
              "<IPython.core.display.Markdown object>"
            ],
            "text/markdown": "> **model**: A população de Tóquio em 1º de maio de 2023 é estimada em **13.960.346** habitantes.\n> \n> Esta estimativa é baseada nos dados mais recentes do Governo Metropolitano de Tóquio."
          },
          "metadata": {}
        },
        {
          "output_type": "stream",
          "name": "stdout",
          "text": [
            "-------------------------------------------\n"
          ]
        }
      ],
      "source": [
        "#Melhorando a visualização\n",
        "#Código disponível em https://ai.google.dev/tutorials/python_quickstart#import_packages\n",
        "import textwrap\n",
        "from IPython.display import display\n",
        "from IPython.display import Markdown\n",
        "\n",
        "def to_markdown(text):\n",
        "  text = text.replace('•', '  *')\n",
        "  return Markdown(textwrap.indent(text, '> ', predicate=lambda _: True))\n",
        "\n",
        "#Imprimindo o histórico\n",
        "for message in chat.history:\n",
        "  display(to_markdown(f'**{message.role}**: {message.parts[0].text}'))\n",
        "  print('-------------------------------------------')"
      ]
    },
    {
      "cell_type": "code",
      "source": [
        "propmt = input(\"Esperando propmt: \")\n",
        "\n",
        "while propmt != \"fim\":\n",
        "  response = chat.send_message(propmt)\n",
        "  print(\"Responta: \", response.text, \"\\n\")\n",
        "  propmt = input(\"Esperando propmt: \")"
      ],
      "metadata": {
        "colab": {
          "base_uri": "https://localhost:8080/",
          "height": 141
        },
        "id": "H26IxnacBuPy",
        "outputId": "d841813a-8775-4f0f-ceae-357116e6e5d9"
      },
      "execution_count": null,
      "outputs": [
        {
          "name": "stdout",
          "output_type": "stream",
          "text": [
            "Esperando propmt: Quantos anos tem o Brasil?\n",
            "Responta:  O Brasil tem **522 anos** em 2023.\n",
            "\n",
            "O Brasil foi descoberto por Pedro Álvares Cabral em 22 de abril de 1500. Portanto, o aniversário do Brasil é comemorado no dia 22 de abril. \n",
            "\n",
            "Esperando propmt: fim\n"
          ]
        }
      ]
    }
  ]
}